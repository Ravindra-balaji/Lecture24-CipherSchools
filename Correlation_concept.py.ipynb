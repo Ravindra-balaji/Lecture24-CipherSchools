{
  "nbformat": 4,
  "nbformat_minor": 0,
  "metadata": {
    "colab": {
      "provenance": []
    },
    "kernelspec": {
      "name": "python3",
      "display_name": "Python 3"
    },
    "language_info": {
      "name": "python"
    }
  },
  "cells": [
    {
      "cell_type": "code",
      "execution_count": 4,
      "metadata": {
        "id": "Owqn3gpLwiCE"
      },
      "outputs": [],
      "source": [
        "import pandas as pd\n",
        "import numpy as np\n",
        "\n",
        "# Seed for reproducibility\n",
        "np.random.seed(42)\n",
        "\n",
        "# Genereate sample data\n",
        "data = {\n",
        "    'Age' : np.random.normal(30,10,100).astype(int),\n",
        "    'Annual Income (K$)' : np.random.normal(50,20,100).astype(int),\n",
        "    'Spending Score (1-100)' : np.random.randint(1,100,100),\n",
        "    'Years with Company' : np.random.normal(5,2,100).astype(int)\n",
        "}\n",
        "\n",
        "# Create DataFrame\n",
        "df = pd.DataFrame(data)\n"
      ]
    },
    {
      "cell_type": "code",
      "source": [
        "\n",
        "pip install tabulate"
      ],
      "metadata": {
        "colab": {
          "base_uri": "https://localhost:8080/"
        },
        "id": "8HjxvM3cyEUy",
        "outputId": "0b55ca13-adc8-471f-a797-de8af21f7325"
      },
      "execution_count": 3,
      "outputs": [
        {
          "output_type": "stream",
          "name": "stdout",
          "text": [
            "Requirement already satisfied: tabulate in /usr/local/lib/python3.10/dist-packages (0.9.0)\n"
          ]
        }
      ]
    },
    {
      "cell_type": "code",
      "source": [
        "from tabulate import tabulate\n",
        "\n",
        "correlation_matrix = df.corr()\n",
        "\n",
        "# Print the correlation matrix as table\n",
        "print(tabulate(correlation_matrix, headers = 'keys', tablefmt='grid', numalign=\"right\", floatfmt=\".2f\"))"
      ],
      "metadata": {
        "colab": {
          "base_uri": "https://localhost:8080/"
        },
        "id": "tcm1mzdFyKmP",
        "outputId": "e928e13f-e49f-442c-c2a6-209006d38a8a"
      },
      "execution_count": 5,
      "outputs": [
        {
          "output_type": "stream",
          "name": "stdout",
          "text": [
            "+------------------------+-------+----------------------+--------------------------+----------------------+\n",
            "|                        |   Age |   Annual Income (K$) |   Spending Score (1-100) |   Years with Company |\n",
            "+========================+=======+======================+==========================+======================+\n",
            "| Age                    |  1.00 |                -0.13 |                     0.02 |                 0.01 |\n",
            "+------------------------+-------+----------------------+--------------------------+----------------------+\n",
            "| Annual Income (K$)     | -0.13 |                 1.00 |                     0.02 |                -0.13 |\n",
            "+------------------------+-------+----------------------+--------------------------+----------------------+\n",
            "| Spending Score (1-100) |  0.02 |                 0.02 |                     1.00 |                -0.13 |\n",
            "+------------------------+-------+----------------------+--------------------------+----------------------+\n",
            "| Years with Company     |  0.01 |                -0.13 |                    -0.13 |                 1.00 |\n",
            "+------------------------+-------+----------------------+--------------------------+----------------------+\n"
          ]
        }
      ]
    },
    {
      "cell_type": "code",
      "source": [],
      "metadata": {
        "id": "DWwE2--4yTw1"
      },
      "execution_count": null,
      "outputs": []
    }
  ]
}